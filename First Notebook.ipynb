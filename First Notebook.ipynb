{
    "cells": [
        {
            "metadata": {},
            "cell_type": "markdown",
            "source": "# My Jupyter Notebook on IBM Watson Studio"
        },
        {
            "metadata": {},
            "cell_type": "markdown",
            "source": "**Maris Sekar** <BR> Principal Data Scientist"
        },
        {
            "metadata": {},
            "cell_type": "markdown",
            "source": "*I am interested in data science because I am curious about learning about the nature of things around me. I believe this will fuel my passion for learning.*"
        },
        {
            "metadata": {},
            "cell_type": "markdown",
            "source": "### Displays the no. of seconds in a year"
        },
        {
            "metadata": {},
            "cell_type": "code",
            "source": "365 * 24 * 60 * 60",
            "execution_count": 20,
            "outputs": [
                {
                    "output_type": "execute_result",
                    "execution_count": 20,
                    "data": {
                        "text/plain": "31536000"
                    },
                    "metadata": {}
                }
            ]
        },
        {
            "metadata": {},
            "cell_type": "markdown",
            "source": "---\n1. Strike\n* ~~Scratch this~~\n2. Quote\n* > Block quote\n3. Link\n* <a href=\"https://www.w3schools.com/\">w3schools link</a>\n\n***"
        }
    ],
    "metadata": {
        "kernelspec": {
            "name": "python3",
            "display_name": "Python 3.6",
            "language": "python"
        },
        "language_info": {
            "name": "python",
            "version": "3.6.9",
            "mimetype": "text/x-python",
            "codemirror_mode": {
                "name": "ipython",
                "version": 3
            },
            "pygments_lexer": "ipython3",
            "nbconvert_exporter": "python",
            "file_extension": ".py"
        }
    },
    "nbformat": 4,
    "nbformat_minor": 1
}